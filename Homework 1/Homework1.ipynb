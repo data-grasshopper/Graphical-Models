{
 "cells": [
  {
   "cell_type": "markdown",
   "metadata": {},
   "source": [
    "# Introduction to Probabilistic Graphical Models, Homework 1\n",
    "\n",
    "M.Sc. Data Science, University Paris Saclay"
   ]
  },
  {
   "cell_type": "markdown",
   "metadata": {},
   "source": [
    "By Peter Martigny"
   ]
  },
  {
   "cell_type": "code",
   "execution_count": 1,
   "metadata": {
    "collapsed": false
   },
   "outputs": [
    {
     "name": "stdout",
     "output_type": "stream",
     "text": [
      "Populating the interactive namespace from numpy and matplotlib\n"
     ]
    }
   ],
   "source": [
    "import numpy as np\n",
    "%pylab inline"
   ]
  },
  {
   "cell_type": "markdown",
   "metadata": {},
   "source": [
    "# Question 1"
   ]
  },
  {
   "cell_type": "markdown",
   "metadata": {},
   "source": [
    "In this question, we are interested in computationnal problems when calculating the log of a sum of exponentials with very negative arguments.\n",
    "\n",
    "First, let's figure out why there is a computationnal problem."
   ]
  },
  {
   "cell_type": "code",
   "execution_count": 2,
   "metadata": {
    "collapsed": false
   },
   "outputs": [
    {
     "name": "stderr",
     "output_type": "stream",
     "text": [
      "C:\\Users\\Peter martigny\\Anaconda3\\lib\\site-packages\\ipykernel\\__main__.py:1: RuntimeWarning: divide by zero encountered in log\n",
      "  if __name__ == '__main__':\n"
     ]
    },
    {
     "data": {
      "text/plain": [
       "-inf"
      ]
     },
     "execution_count": 2,
     "metadata": {},
     "output_type": "execute_result"
    }
   ],
   "source": [
    "np.log(np.exp(-1234) + np.exp(-1235))"
   ]
  },
  {
   "cell_type": "markdown",
   "metadata": {},
   "source": [
    "In fact, the argument of the log is too small and is consideres as zero, which is not recognized by the log function.\n",
    "\n",
    "Even when we run: "
   ]
  },
  {
   "cell_type": "code",
   "execution_count": 3,
   "metadata": {
    "collapsed": false
   },
   "outputs": [
    {
     "name": "stderr",
     "output_type": "stream",
     "text": [
      "C:\\Users\\Peter martigny\\Anaconda3\\lib\\site-packages\\ipykernel\\__main__.py:1: RuntimeWarning: divide by zero encountered in log\n",
      "  if __name__ == '__main__':\n"
     ]
    },
    {
     "data": {
      "text/plain": [
       "-inf"
      ]
     },
     "execution_count": 3,
     "metadata": {},
     "output_type": "execute_result"
    }
   ],
   "source": [
    "np.log(np.exp(-1234))"
   ]
  },
  {
   "cell_type": "markdown",
   "metadata": {},
   "source": [
    "Python does not know that log and exp are inverse functions."
   ]
  },
  {
   "cell_type": "markdown",
   "metadata": {},
   "source": [
    "We will then use the multiplicative properties of the exp function to overcome the problem. Tthe basic idea is that the exponential with the highest arguments has much importance. Let's denote V the maximum of all the arguments. We have:\n",
    "\n",
    "$log[\\exp(\\sum_{i=1}^{K} v_i)] = log[\\exp(V)\\sum_{i != j}^{K} \\exp((v_i - V))]$\n",
    "$ = V + log[1 + \\sum_{i \\ne j} \\exp((v_i - K))]$"
   ]
  },
  {
   "cell_type": "markdown",
   "metadata": {},
   "source": [
    "Hence, we could at first sight approximate its value by V, which is the dominant term. To give exact result we compute also the second term. The second term is always stable, because even in case of large negative arguments in the exponential, it will only result in calculating the log of 1 which is 0."
   ]
  },
  {
   "cell_type": "code",
   "execution_count": 4,
   "metadata": {
    "collapsed": true
   },
   "outputs": [],
   "source": [
    "def compute_calculus(v):\n",
    "    n = v.size\n",
    "    V = np.max(v)\n",
    "    S = np.log(1 + sum(np.exp(v[i] - V) for i in range(n)))\n",
    "    exact_result = V + S\n",
    "    error_when_approximation = np.abs(S / exact_result)\n",
    "    return exact_result, error_when_approximation"
   ]
  },
  {
   "cell_type": "code",
   "execution_count": 5,
   "metadata": {
    "collapsed": false
   },
   "outputs": [
    {
     "name": "stdout",
     "output_type": "stream",
     "text": [
      "Exact result is:  -1233.1380052\n",
      "Absolute error made when approximating with the first term:  0.00069902541356\n"
     ]
    }
   ],
   "source": [
    "x = np.array([-1234, -1235])\n",
    "experiment = compute_calculus(x)\n",
    "print('Exact result is: ', experiment[0])\n",
    "print('Absolute error made when approximating with the first term: ', experiment[1])"
   ]
  },
  {
   "cell_type": "markdown",
   "metadata": {},
   "source": [
    "# Question 2"
   ]
  },
  {
   "cell_type": "markdown",
   "metadata": {},
   "source": [
    "In this question, we want to implement a function that generate independant random samples from a specified distribution."
   ]
  },
  {
   "cell_type": "code",
   "execution_count": 6,
   "metadata": {
    "collapsed": false
   },
   "outputs": [],
   "source": [
    "import random\n",
    "#random.uniform(0, 1)"
   ]
  },
  {
   "cell_type": "markdown",
   "metadata": {},
   "source": [
    "The idea we will develop in this algorithm is the following:\n",
    "   The different probabilities can form a partition of $[0, 1]$. We will therefore select random numbers between 0 and 1 using a uniform distribution, and depending on the interval where it falls in the partition we assign the sample a label from S."
   ]
  },
  {
   "cell_type": "code",
   "execution_count": 7,
   "metadata": {
    "collapsed": true
   },
   "outputs": [],
   "source": [
    "def randgen(S, N, P):\n",
    "    ''' Input: \n",
    "            S: Discrete Domain\n",
    "            N: Number of samples\n",
    "            P: Positive weights, summing to 1 (probabilities) and supposed \n",
    "            to be in ascending order\n",
    "        \n",
    "        Output: An array of size N containing element of S sampled by the\n",
    "        given probability distribution\n",
    "    ''' \n",
    "    # Initialize the output sample list\n",
    "    sample = []\n",
    "    \n",
    "    # Let's create the partition of [0, 1] with the ordered probabilities\n",
    "    for i in range(1, P.size):\n",
    "        P[i] = P[i] + P[i-1]\n",
    "    \n",
    "    # Generate a random number (uniform distribution) in [0, 1] and assign \n",
    "    # it to the corresponding portion of [0, 1] and thus the corresponding \n",
    "    # label in S\n",
    "    for i in range(N):\n",
    "        x = random.uniform(0, 1)\n",
    "        aux = 0\n",
    "        while x > P[aux]:\n",
    "            aux += 1\n",
    "        sample.append(S[aux])\n",
    "\n",
    "    return sample"
   ]
  },
  {
   "cell_type": "markdown",
   "metadata": {},
   "source": [
    "Let's test the algorithm"
   ]
  },
  {
   "cell_type": "code",
   "execution_count": 8,
   "metadata": {
    "collapsed": false
   },
   "outputs": [
    {
     "data": {
      "text/plain": [
       "['T', 'H', 'T', 'T', 'H', 'T', 'H', 'T', 'T', 'T']"
      ]
     },
     "execution_count": 8,
     "metadata": {},
     "output_type": "execute_result"
    }
   ],
   "source": [
    "S = np.array(['H', 'T'])\n",
    "P = np.array([0.2, 0.8])\n",
    "N = 10\n",
    "Z = randgen(S, N, P)\n",
    "Z"
   ]
  },
  {
   "cell_type": "markdown",
   "metadata": {},
   "source": [
    "Let's see the result with N lager with a count function"
   ]
  },
  {
   "cell_type": "code",
   "execution_count": 9,
   "metadata": {
    "collapsed": true
   },
   "outputs": [],
   "source": [
    "from collections import Counter"
   ]
  },
  {
   "cell_type": "code",
   "execution_count": 10,
   "metadata": {
    "collapsed": false
   },
   "outputs": [
    {
     "data": {
      "text/plain": [
       "Counter({'H': 20070, 'T': 79930})"
      ]
     },
     "execution_count": 10,
     "metadata": {},
     "output_type": "execute_result"
    }
   ],
   "source": [
    "S = np.array(['H', 'T'])\n",
    "P = np.array([0.2, 0.8])\n",
    "N = 100000\n",
    "Z = randgen(S, N, P)\n",
    "Counter(Z)"
   ]
  },
  {
   "cell_type": "markdown",
   "metadata": {},
   "source": [
    "The proportion is respected"
   ]
  },
  {
   "cell_type": "markdown",
   "metadata": {},
   "source": [
    "# Exercise 3"
   ]
  },
  {
   "cell_type": "markdown",
   "metadata": {
    "collapsed": true
   },
   "source": [
    "We have three boxes of different colors, containing apples, oranges and lines."
   ]
  },
  {
   "cell_type": "markdown",
   "metadata": {},
   "source": [
    "#### Sub-question 1 "
   ]
  },
  {
   "cell_type": "markdown",
   "metadata": {},
   "source": [
    "If a box is chosen at random with probabilities $p(r) = 0.2, p(b) = 0.2, p(g) = 0.6$, and a piece of fruit is removed from the box (with equal probability of selecting any of the items in the box), then what is the probability of selecting an apple?"
   ]
  },
  {
   "cell_type": "markdown",
   "metadata": {},
   "source": [
    "We have:\n",
    "\n",
    "$P(apple) = P(apple | red box)P(red box) + P(apple | blue box)P(blue box) + \n",
    "P(apple | green box)P(green box)$\n",
    "\n",
    "Which means: \n",
    "\n",
    "$P(apple) = 0.3 * 0.2 + 0.5 * 0.2 + 0.3 * 0.6$\n",
    "\n",
    "So we have: \n",
    "\n",
    "$P(apple) = 0.34$"
   ]
  },
  {
   "cell_type": "markdown",
   "metadata": {},
   "source": [
    "#### Sub-question 2"
   ]
  },
  {
   "cell_type": "markdown",
   "metadata": {},
   "source": [
    "If we observe that the selected fruit is in fact an orange, what is the probability that it came from the green box?"
   ]
  },
  {
   "cell_type": "markdown",
   "metadata": {},
   "source": [
    "We have: \n",
    "\n",
    "$P(Green box | orange) = \\frac{P(orange | Green box) * P(Green box)}{P(orange)}$\n",
    "$P(Green box | orange) = \\frac{P(orange | Green box) * P(Green box)}{P(orange | red box)P(red box) + P(orange | blue box)P(blue box) + \n",
    "P(orange | green box)P(green box)}$\n",
    "We then have: \n",
    "\n",
    "$P(Green box | orange) = \\frac{0.3 * 0.6}{0.4 * 0.2 + 0.5 + 0.2 + 0.3 * 0.6}$\n",
    "\n",
    "We then have: \n",
    "\n",
    "$P(Green box | orange) = 0.5$"
   ]
  },
  {
   "cell_type": "markdown",
   "metadata": {},
   "source": [
    "# Question 4"
   ]
  },
  {
   "cell_type": "markdown",
   "metadata": {},
   "source": [
    "The goal of this exercise is to manipulate gaussian distributions"
   ]
  },
  {
   "cell_type": "code",
   "execution_count": 11,
   "metadata": {
    "collapsed": false
   },
   "outputs": [],
   "source": [
    "import matplotlib.pyplot as plt\n",
    "import time"
   ]
  },
  {
   "cell_type": "markdown",
   "metadata": {},
   "source": [
    "We have: \n",
    "\n",
    "$p(\\lambda | D) = \\frac{p(D|\\lambda) * p(\\lambda)}{p(D)}$\n",
    "\n",
    "We compute: \n",
    "\n",
    "$p(\\lambda | D) = \\frac{1}{\\sqrt(2\\pi) \\sigma_\\lambda^2} * \\exp(\\lambda(\\frac{D}{\\sigma_D^2} -\\frac{\\lambda}{\\sigma_\\lambda^2}))$"
   ]
  },
  {
   "cell_type": "markdown",
   "metadata": {},
   "source": [
    "#### Now let's plot $p(\\lambda)$ and $p(\\lambda | D = 1)$ for the desired value of variances"
   ]
  },
  {
   "cell_type": "markdown",
   "metadata": {},
   "source": [
    "First define the functions: "
   ]
  },
  {
   "cell_type": "code",
   "execution_count": 12,
   "metadata": {
    "collapsed": true
   },
   "outputs": [],
   "source": [
    "def p_lambda(t):\n",
    "    result = (1/np.sqrt(4*pi)) * np.exp(-t**2 / 4)\n",
    "    return result\n",
    "def conditional_lambda(t):\n",
    "    result = (1/np.sqrt(2*pi)) * np.exp(t*(1 - t/2))\n",
    "    return result"
   ]
  },
  {
   "cell_type": "markdown",
   "metadata": {},
   "source": [
    "Then plot these functions: "
   ]
  },
  {
   "cell_type": "code",
   "execution_count": 13,
   "metadata": {
    "collapsed": false
   },
   "outputs": [
    {
     "data": {
      "image/png": "[encoded data removed]",
      "text/plain": [
       "<matplotlib.figure.Figure at 0x12f05372a20>"
      ]
     },
     "metadata": {},
     "output_type": "display_data"
    }
   ],
   "source": [
    "t0 = np.arange(-5, 5, 0.02)\n",
    "plt.plot(t0, p_lambda(t0), color = 'r', label = 'p_lambda')\n",
    "plt.plot(t0, conditional_lambda(t0), color = 'g', label = 'conditional_lambda')\n",
    "plt.legend()\n",
    "plt.show()"
   ]
  }
 ],
 "metadata": {
  "anaconda-cloud": {},
  "kernelspec": {
   "display_name": "Python [Root]",
   "language": "python",
   "name": "Python [Root]"
  },
  "language_info": {
   "codemirror_mode": {
    "name": "ipython",
    "version": 3
   },
   "file_extension": ".py",
   "mimetype": "text/x-python",
   "name": "python",
   "nbconvert_exporter": "python",
   "pygments_lexer": "ipython3",
   "version": "3.5.2"
  }
 },
 "nbformat": 4,
 "nbformat_minor": 0
}
